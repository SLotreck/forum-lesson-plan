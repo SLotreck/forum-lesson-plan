{
 "cells": [
  {
   "cell_type": "markdown",
   "metadata": {},
   "source": [
    "# An Introduction to Dictionaries and Functions in Python"
   ]
  },
  {
   "cell_type": "markdown",
   "metadata": {},
   "source": [
    "## Dictionaries\n",
    "-----\n",
    "### What is a dictionary?\n",
    "Imagine an English-language dictionary. If we want to know the meaning of the word \"science\", we can look up that word in the dictionary. The word, \"science\", is a *key*, and its definition is a *value*; together they form a *key:value pair*. Python dictionaries are just like this. They allow us to store information associated with a key, that allows us to look up the information (the value) when we need it. <br>\n",
    "\n",
    "To continue with our example, we can even make a small English-language dictionary in Python, using just the first few words of each definition for visual clarity:\n"
   ]
  },
  {
   "cell_type": "code",
   "execution_count": 1,
   "metadata": {},
   "outputs": [],
   "source": [
    "EnglishDict = {'science':'the intellectual and practical activity...','humanities':'learning or literature...'}"
   ]
  },
  {
   "cell_type": "markdown",
   "metadata": {},
   "source": [
    "If I want to look up words in my dictionary, I can:"
   ]
  },
  {
   "cell_type": "code",
   "execution_count": 2,
   "metadata": {},
   "outputs": [
    {
     "data": {
      "text/plain": [
       "'the intellectual and practical activity...'"
      ]
     },
     "execution_count": 2,
     "metadata": {},
     "output_type": "execute_result"
    }
   ],
   "source": [
    "EnglishDict['science']"
   ]
  },
  {
   "cell_type": "markdown",
   "metadata": {},
   "source": [
    "### Why use a dictionary?\n",
    "In order to illustrate why we would use a dictionary, let's think about the differences between dictionaries and what we've learned in previous classes: lists. Before today, if we wanted to put a bunch of values into one object to reference later, we put them in a list. Lists are indexable: that is, each element is associated with a number, from `0` to `n-1`, where `n` is the length of the list. If we want to access an element of the list, we either have to know its numerical index, or iterate over the list until we find it. <br>\n",
    "\n",
    "Keeping that in mind, let's talk about the two benefits of dictionaries: **keys** and **speed**. <br>\n",
    "\n",
    "As is probably evident from the above example, there are clear instances in which a dictionary's use of keys makes a dictionary the right choice to solve a given problem. If we have identifiers that refer to some data, a dictionary very intuitively helps us keep the identifiers and data paired together correctly. In a list, we can only use integers as identifiers, and this isn't helpful if there's some meaning to the identifier, like how a word refers to a definition. If we tried to encode our English dictionary as a list, for example, we wouldn't be able to look up definitions by words, nor know what defintions go with which word. <br>\n",
    "\n",
    "However, there is also another important benefit to dictionaries that isn't immediately obvious: lookup in dictionaries is much faster than in lists. This benefit is due to how Python stores dictionaries. In a list, even if we know the numerical index of an item, we have to iterate through the whole list until we find that item. This means that, if the time it takes to look at one element in a list is 1, it takes `n` time to find the nth element of the list. In a dictionary, on the other hand, we can directly look up the element we want, without having to go through all the other elements. For the curious, the implementation in Python that allows this is explained [here](http://www.jessicayung.com/how-python-implements-dictionaries/). From Python 3.6 onwards, dictionaries are faster than lists, and don't use more memory. Therefore, it is sometimes useful to implement a dictionary even when it's not intuitive why a list couldn't suffice. This comes in handy when working with very large datasets, where there are thousands or more elements in a list. Just something to keep in mind if your code is running super slow! <br>\n",
    "\n",
    "### How to use a dictionary\n",
    "Making a dictionary in python is as simple as the following line of code:\n",
    "\n",
    "    myDict = {'key':'value'}\n",
    "    \n",
    "The great thing about dictionaries is that the value can be anything; a string, int, float, or *mutable* (changeable) data types such as lists, or even other dictionaries! Really the only rule about dictionaries is that they keys have to be *immutable*: you can't use a list as your key, but you can use a string, because you can change the elements of a list, but you can't change the characters in a string. And this makes sense -- because if you can change the keys in your dict, how can you know what they are in order to look them up? <br>\n",
    "\n",
    "How do we use dictionaries we've made? Some common operations, using our English example: <br>\n",
    "\n",
    "**Looking up a value by it's key:** Two equivalent methods <br>\n",
    "\n",
    "    "
   ]
  },
  {
   "cell_type": "code",
   "execution_count": 3,
   "metadata": {},
   "outputs": [
    {
     "data": {
      "text/plain": [
       "'learning or literature...'"
      ]
     },
     "execution_count": 3,
     "metadata": {},
     "output_type": "execute_result"
    }
   ],
   "source": [
    "EnglishDict['humanities']"
   ]
  },
  {
   "cell_type": "code",
   "execution_count": 4,
   "metadata": {},
   "outputs": [
    {
     "data": {
      "text/plain": [
       "'learning or literature...'"
      ]
     },
     "execution_count": 4,
     "metadata": {},
     "output_type": "execute_result"
    }
   ],
   "source": [
    "EnglishDict.get('humanities')"
   ]
  },
  {
   "cell_type": "markdown",
   "metadata": {},
   "source": [
    "**Getting a list of all keys:**"
   ]
  },
  {
   "cell_type": "code",
   "execution_count": 5,
   "metadata": {},
   "outputs": [
    {
     "data": {
      "text/plain": [
       "dict_keys(['science', 'humanities'])"
      ]
     },
     "execution_count": 5,
     "metadata": {},
     "output_type": "execute_result"
    }
   ],
   "source": [
    "EnglishDict.keys()"
   ]
  },
  {
   "cell_type": "markdown",
   "metadata": {},
   "source": [
    "**Add a new key:value pair:**"
   ]
  },
  {
   "cell_type": "code",
   "execution_count": 7,
   "metadata": {},
   "outputs": [
    {
     "data": {
      "text/plain": [
       "{'science': 'the intellectual and practical activity...',\n",
       " 'humanities': 'learning or literature...',\n",
       " 'engineering': 'concerned with the design, building...'}"
      ]
     },
     "execution_count": 7,
     "metadata": {},
     "output_type": "execute_result"
    }
   ],
   "source": [
    "EnglishDict['engineering'] = 'concerned with the design, building...'\n",
    "EnglishDict"
   ]
  },
  {
   "cell_type": "markdown",
   "metadata": {},
   "source": [
    "Iterate over a dict?"
   ]
  },
  {
   "cell_type": "markdown",
   "metadata": {},
   "source": [
    "## Functions\n",
    "_____\n",
    "### What is a function?\n",
    "In programming, a function allows us to call the same set of code over and over on different inputs. A function consists of an organized block of code that performs some modular (meaning it works independently) task, and we can apply within different sections of our code. Functions also have a short piece of documentation within their definition, called a *docstring*, that allows users to understand exactly what the function does and how it is used. <br>\n",
    "\n",
    "We use the command  `return` within the body of a function to pass a value out of the function once we've produced it; if we won't return the value, it will disappear forever once the function is done running!<br>\n",
    "\n"
   ]
  },
  {
   "cell_type": "code",
   "execution_count": 10,
   "metadata": {},
   "outputs": [
    {
     "name": "stdout",
     "output_type": "stream",
     "text": [
      "thirdElmt: 3\n",
      "myList: [1, 2, 3, 4]\n"
     ]
    }
   ],
   "source": [
    "myList = [1,2,3,4]\n",
    "\n",
    "def returnThirdElement(alist):\n",
    "    \"\"\"\n",
    "    Returns the third element in a list.\n",
    "    \n",
    "    parameters:\n",
    "    alist: a list of length three or greater\n",
    "    \"\"\"\n",
    "    return alist[2]\n",
    "\n",
    "thirdElmt = returnThirdElement(myList)\n",
    "print('thirdElmt: {}'.format(thirdElmt))\n",
    "print('myList: {}'.format(myList))"
   ]
  },
  {
   "cell_type": "markdown",
   "metadata": {},
   "source": [
    "This is an example of a custom Python function. We can define functions to do anything we want! This will be discussed in the section **How to use a function**.\n",
    "\n",
    "### Why use a function?\n",
    "Why bother with functions? It might seem non-intuitive to define functions for such simple tasks, that only take a few lines of code to execute. But what if I want to perform the same task over and over on different input data? What if I want to execute a procedure that's 15 lines of code instead of 5? That is what functions are perfect for: to avoide repetitive code. We often perform the same procedures multiple times in a given script, and functions allow us to reduce the repetition in our code, making it easier to read and edit, and helping us avoid copy-and-paste errors, since we only have to write the same section of code one time. Here are some examples of these benefits:<br>\n",
    "\n",
    "**Ease of editing:** Imagine that I want to do the procedure in `returnThirdElement` multiple times, but I haven't written a function. My code might look something like this:\n",
    "\n",
    "    firstList = [1,2,3,4]\n",
    "    secondList = [5,6,7,8]\n",
    "    thirdList = [10,11,12,13]\n",
    "    \n",
    "    thirdEltFirst = firstList[2] \n",
    "    thirdEltSecond = secondList[2]\n",
    "    thirdEltThird = thirdList[2] \n",
    "    \n",
    "But what if I decide I want the first element, not the third? Now I have to manually change every instance of \\[2\\] in my code: \n",
    "\n",
    "    firstList = [1,2,3,4]\n",
    "    secondList = [5,6,7,8]\n",
    "    thirdList = [10,11,12,13]\n",
    "    \n",
    "    thirdEltFirst = firstList[0] \n",
    "    thirdEltSecond = secondList[0]\n",
    "    thirdEltThird = thirdList[0]\n",
    "    \n",
    "Whereas if I had used my function `returnThirdElement` the switch would have been as simple as changing \\[2\\] to \\[0\\] in the body of my custom function one time, and changing the function name to make sure it still describes what the function does: \n",
    "\n",
    "    def returnThirdElement(alist):\n",
    "        \"\"\"\n",
    "        Returns the third element in a list.\n",
    "\n",
    "        parameters:\n",
    "        alist: a list of length three or greater\n",
    "        \"\"\"\n",
    "        return alist[2]\n",
    "\n",
    "Changes to: \n",
    "\n",
    "    def returnFirstElement(alist):\n",
    "        \"\"\"\n",
    "        Returns the first element in a list.\n",
    "\n",
    "        parameters:\n",
    "        alist: a list of length three or greater\n",
    "        \"\"\"\n",
    "        return alist[0]\n",
    "        \n",
    "This might seem trivial in this example, because I only repeated myself three time; but as you write more complex code and start to repeat the same functions over and over, only needing to change the value one time becomes much more useful. Another example would be if I called the same argument (variable that I pass to the function) multiple times within the function: I would only have to change the value of the argument, instead of every instance within the code.\n",
    "\n",
    "**Avoiding copy paste errors:** Imagine I wanted to get the third elements of ten or twenty lists, instead of 3. The more I copy-paste and change variable names the more likely I am to make an error, and not notice: \n",
    "\n",
    "    firstList = [1,2,3,4]\n",
    "    secondList = [5,6,7,8]\n",
    "    thirdList = [10,11,12,13]\n",
    "    fourthList = [1,2,3,4]\n",
    "    fifthList = [5,6,7,8]\n",
    "    sixthList = [10,11,12,13]\n",
    "    seventhList = [1,2,3,4]\n",
    "    eighthList = [5,6,7,8]\n",
    "    ninthList = [10,11,12,13]\n",
    "    tenthtList = [1,2,3,4]\n",
    "    \n",
    "    thirdEltFirst = firstList[2] \n",
    "    thirdEltSecond = secondList[2] \n",
    "    thirdEltThird = thirdList[2]\n",
    "    thirdEltFourth = ourthList[2] \n",
    "    thirdEltFift = fifthList[2] \n",
    "    thirdEltSixth = thirdList[2] \n",
    "    thirdEltSeventh = sevethList[2]\n",
    "    thirdEltEighth = eighthList[2]\n",
    "    thirdEltNinth = ninthList[2\n",
    "    thirdEltTenth = tenthList[2]\n",
    "\n",
    "Can you spot the copy-paste and typing errors? If I had used a function, my code might look like this:\n",
    "\n",
    "    lists = [firstList, secondList, thirdList, fourthList, fifthList, sixthList, seventhList, eighthList, ninthList, tenthtList]\n",
    "    \n",
    "    thirdEltsLists = []\n",
    "    for alist in lists:\n",
    "        thirdElt = returnThirdElement(alist)\n",
    "        thirdEltsLists.append(thirdElt)\n",
    "\n",
    "### How to use a function\n",
    "There are two parts to using a custom function. The first is defining it, and the second is applying it. <br>\n",
    "\n",
    "#### Defining a custom function\n",
    "Defining a function is as simple as the following: \n"
   ]
  },
  {
   "cell_type": "code",
   "execution_count": 14,
   "metadata": {},
   "outputs": [],
   "source": [
    "def myFunc(x,y=5):\n",
    "    \"\"\"\n",
    "    this function does <description here>\n",
    "\n",
    "    parameters:\n",
    "    x: some parameter\n",
    "    y: some other parameter. default = 5\n",
    "    \"\"\"\n",
    "    # my code here\n"
   ]
  },
  {
   "cell_type": "markdown",
   "metadata": {},
   "source": [
    "There are three elements to a function definition: the header, the docstring, and the body. <br>\n",
    "The **header**: `def` followed by the name of your function. In parentheses are the generic variables representing the inputs (arguments) your function will accept. You can create default values for parameters by using an `=`. You can also make a function that takes no arguments, and does a fixed task every time. <br>\n",
    "The **docstring**: this is one of the most important aspects of coding: making your code readable and reusable, not only by other people, but also by you! We all think we'll remember exactly what it was that we were trying to do, but a few months later it's as if we're looking at a stranger's code. A docstring is the fastest way to remind yourself what you wanted this function to do. It should contain information about what the function does or returns, and what the parameters are: what type of object they are, and what rules they have to follow. The best thing about the docstring is that you set the rules: the function only has to do what you say it does in the docstring. If someone uses it wrong and it throws an error, that's their fault for not reading the docstring, as long as you clearly specified what parameters are allowed or not allowed. <br>\n",
    "And last but not least, the **function body** This is where you put the lines of code you want this function to run. Make sure you use the same variable names that you provided in the function header. \n",
    "\n",
    "#### Using your custom function\n",
    "**Calling your function**. Here are several valid ways to use the example function we just defined.\n",
    "    \n",
    "    x = 7\n",
    "    y = 9\n",
    "    myFunc(x,y)\n",
    "    \n",
    "    myFunc(x)\n",
    "    \n",
    "    myFunc(7,9)\n",
    "    \n",
    "    myFunc(7)\n",
    "    \n",
    "    myFunc(x=7,y=9)\n",
    "    \n",
    "Since y has a default, we don't have to pass y to the function if we don't want or need to. If we do pass a value for y, it will override the default value. However, since x doesn't have a default, we have to pass a value for x, otherwise the function will throw an error. Lastly, if we want to specify the arguments with keywords, as in `myFunc(x=7,y=9)`, once we specify one argument with a keyword, all subsequent arguments must be specified with keywords. `myFunc(x=7,9)` will throw an error. <br>\n",
    "\n",
    "**Getting help for functions**. Oftentimes, we use other people's functions, so we don't necessarily know what all the arguments are, or what exactly the function does or returns. If we want to quickly see the docstring written in the function, we can use Python's built-in `help( )` function. This prints everything within the \"\"\"triple quotes\"\"\". For example, if we wanted to know what `returnThirdElement` does:"
   ]
  },
  {
   "cell_type": "code",
   "execution_count": 19,
   "metadata": {},
   "outputs": [
    {
     "name": "stdout",
     "output_type": "stream",
     "text": [
      "Help on function returnThirdElement in module __main__:\n",
      "\n",
      "returnThirdElement(alist)\n",
      "    Returns the third element in a list.\n",
      "    \n",
      "    parameters:\n",
      "    alist: a list of length three or greater\n",
      "\n"
     ]
    }
   ],
   "source": [
    "help(returnThirdElement)"
   ]
  },
  {
   "cell_type": "markdown",
   "metadata": {},
   "source": [
    "This is why it's so important to write good docstrings! This allows everyone who uses this function to quickly get info on how to use it. Additionally, if you're using a function from a widely-used Python module, you can also google the function to find the more extensive documentation. "
   ]
  },
  {
   "cell_type": "markdown",
   "metadata": {},
   "source": [
    "## Central Dogma (?)"
   ]
  },
  {
   "cell_type": "markdown",
   "metadata": {},
   "source": [
    "Watch the video below and pay attention to the following:\n",
    "\n",
    "* How to create a dictionary\n",
    "* How to retrieve dictionary values using a key\n",
    "* How to use the `.get()` function\n",
    "* How to define a function using `def`\n",
    "* How to specify and use argument defaults\n",
    "* How to change the order of arguments when using a function\n",
    "* Function outputs\n",
    "* How to use `return` to store variables\n",
    "* How to use `yield` as a generator NOT TEACHING THIS\n",
    "\n",
    "We will be using the genetic code as an example of a dictionary, and defining custom functions to translate the coding sequence of GFP (Green Fluorescent Protein) and Rubisco (Ribulose-1,5-bisphosphate carboxylase/oxygenase) into proteins. \n",
    "\n",
    "Execute the cell below to have this data and follow along in the video!"
   ]
  },
  {
   "cell_type": "code",
   "execution_count": 1,
   "metadata": {},
   "outputs": [],
   "source": [
    "genetic_code = {'TTT':'F','TTC':'F','TTA':'L','TTG':'L','CTT':'L','CTC':'L','CTA':'L','CTG':'L','ATT':'I','ATC':'I','ATA':'I','ATG':'M','GTT':'V','GTC':'V','GTA':'V','GTG':'V','TCT':'S','TCC':'S','TCA':'S','TCG':'S','CCT':'P','CCC':'P','CCA':'P','CCG':'P','ACT':'T','ACC':'T','ACA':'T','ACG':'T','GCT':'A','GCC':'A','GCA':'A','GCG':'A','TAT':'Y','TAC':'Y','TAA':'-','TAG':'-','CAT':'H','CAC':'H','CAA':'Q','CAG':'Q','AAT':'N','AAC':'N','AAA':'K','AAG':'K','GAT':'D','GAC':'D','GAA':'E','GAG':'E','TGT':'C','TGC':'C','TGA':'-','TGG':'W','CGT':'R','CGC':'R','CGA':'R','CGG':'R','AGT':'S','AGC':'S','AGA':'R','AGG':'R','GGT':'G','GGC':'G','GGA':'G','GGG':'G'}\n",
    "gfp = \"ATGGTGAGCAAGGGCGAGGAGCTGTTCACCGGGGTGGTGCCCATCCTGGTCGAGCTGGACGGCGACGTAAACGGCCACAAGTTCAGCGTGTCTGGCGAGGGCGAGGGCGATGCCACCTACGGCAAGCTGACCCTGAAGTTCATCTGCACCACCGGCAAGCTGCCCGTGCCCTGGCCCACCCTCGTGACCACCCTGACCTACGGCGTGCAGTGCTTCAGCCGCTACCCCGACCACATGAAGCAGCACGACTTCTTCAAGTCCGCCATGCCCGAAGGCTACGTCCAGGAGCGCACCATCTTCTTCAAGGACGACGGCAACTACAAGACCCGCGCCGAGGTGAAGTTCGAGGGCGACACCCTGGTGAACCGCATCGAGCTGAAGGGCATCGACTTCAAGGAGGACGGCAACATCCTGGGGCACAAGCTGGAGTACAACTACAACAGCCACAACGTCTATATCATGGCCGACAAGCAGAAGAACGGCATCAAGGCGAACTTCAAGATCCGCCACAACATCGAGGACGGCAGCGTGCAGCTCGCCGACCACTACCAGCAGAACACCCCCATCGGCGACGGCCCCGTGCTGCTGCCCGACAACCACTACCTGAGCACCCAGTCCGCCCTGAGCAAAGACCCCAACGAGAAGCGCGATCACATGGTCCTGCTGGAGTTCGTGACCGCCGCCGGGATCACTCTCGGCATGGACGAGCTGTACAAGTAA\"\n",
    "rubisco = \"ATGGCGAGCACCTTTAGCGCGACCACCAGCAGCTGCAACCTGAGCAGCAGCGCGGCGATTAGCAGCTTTCCGCTGGCGGCGGGCAAACGCAACGCGAACAAAGTGGTGCTGCCGCGCAAAAACCGCAACGTGAAAGTGAGCGCGATGGCGAAAGAACTGCATTTTAACAAAGATGGCAGCGCGATTAAAAAACTGCAGAACGGCGTGAACAAACTGGCGGATCTGGTGGGCGTGACCCTGGGCCCGAAAGGCCGCAACGTGGTGCTGGAAAGCAAATATGGCAGCCCGAAAATTGTGAACGATGGCGTGACCGTGGCGAAAGAAGTGGAACTGGAAGATCCGGTGGAAAACATTGGCGCGAAACTGGTGCGCCAGGCGGCGGCGAAAACCAACGATCTGGCGGGCGATGGCACCACCACCAGCGTGGTGCTGGCGCAGGGCCTGATTGCGGAAGGCGTGAAAGTGGTGGCGGCGGGCGCGAACCCGGTGCTGATTACCCGCGGCATTGAAAAAACCAGCAAAGCGCTGGTGGCGGAACTGAAAAAAATGAGCAAAGAAGTGGAAGATAGCGAACTGGCGGATGTGGCGGCGGTGAGCGCGGGCAACAACCATGAAGTGGGCAACATGATTGCGGAAGCGCTGAGCAAAGTGGGCCGCAAAGGCGTGGTGACCCTGGAAGAAGGCAAAAGCGCGGAAAACAGCCTGTATGTGGTGGAAGGCATGCAGTTTGATCGCGGCTATATTAGCCCGTATTTTGTGACCGATAGCGAAAAAATGACCGTGGAATTTGAAAACTGCAAACTGCTGCTGGTGGATAAAAAAATTACCAACGCGCGCGATCTGATTAACATTCTGGAAGATGCGATTCGCAGCGGCTTTCCGATTGTGATTATTGCGGAAGATATTGAACAGGAAGCGCTGGCGACCCTGGTGGTGAACAAACTGCGCGGCAGCCTGAAAATTGCGGCGCTGAAAGCGCCGGGCTTTGGCGAACGCAAAAGCCAGTATCTGGATGATATTGCGATTCTGACCGGCGGCACCGTGATTCGCGAAGAAGTGGGCCTGACCCTGGATAAAGCGGATAAAGAAGTGCTGGGCAACGCGGCGAAAGTGGTGCTGACCAAAGATACCACCACCATTGTGGGCGATGGCAGCACCCAGGAAGCGGTGAACAAACGCGTGAGCCAGATTAAAAACCAGATTGAAGCGGCGGAACAGGAATATGAAAAAGAAAAACTGAGCGAACGCATTGCGAAACTGAGCGGCGGCGTGGCGGTGATTCAGGTGGGCGCGCAGACCGAAACCGAACTGAAAGAAAAAAAACTGCGCGTGGAAGATGCGCTGAACGCGACCAAAGCGGCGGTGGAAGAAGGCATTGTGGTGGGCGGCGGCTGCACCCTGCTGCGCCTGGCGAGCAAAGTGGATGCGATTAAAGATACCCTGGCGAACGATGAAGAAAAAGTGGGCGCGGATATTGTGAAACGCGCGCTGAGCTATCCGCTGAAACTGATTGCGAAAAACGCGGGCGTGAACGGCAGCGTGGTGAGCGAAAAAGTGCTGAGCAGCGATAACCCGAAATATGGCTATAACGCGGCGACCGGCAAATATGAAGATCTGATGGCGGCGGGCATTATTGATCCGACCAAAGTGGTGCGCTGCTGCCTGGAACATGCGAGCAGCGTGGCGAAAACCTTTCTGATGAGCGATTGCGTGGTGGTGGAAATTAAAGAACCGGAAAGCGCGCCGGTGGGCAACCCGATGGATAACAGCGGCTATGGCAACATT\""
   ]
  },
  {
   "cell_type": "code",
   "execution_count": 3,
   "metadata": {},
   "outputs": [
    {
     "data": {
      "image/jpeg": "[encoded data removed]",
      "text/html": [
       "\n",
       "        <iframe\n",
       "            width=\"640\"\n",
       "            height=\"360\"\n",
       "            src=\"https://www.youtube.com/embed/HIxmLFrVBYQ\"\n",
       "            frameborder=\"0\"\n",
       "            allowfullscreen\n",
       "        ></iframe>\n",
       "        "
      ],
      "text/plain": [
       "<IPython.lib.display.YouTubeVideo at 0x1e19d96b848>"
      ]
     },
     "execution_count": 3,
     "metadata": {},
     "output_type": "execute_result"
    }
   ],
   "source": [
    "# Imports the functionality that we need to display YouTube videos in a Jupyter notebook.  \n",
    "# You need to run this cell before you run ANY of the YouTube videos.\n",
    "from IPython.display import YouTubeVideo\n",
    "\n",
    "# Watch this video to learn about functions, dictionaries, and L-systems\n",
    "YouTubeVideo(\"HIxmLFrVBYQ\",width=640,height=360)"
   ]
  },
  {
   "cell_type": "markdown",
   "metadata": {},
   "source": [
    "# Introduction to Dictionaries"
   ]
  },
  {
   "cell_type": "code",
   "execution_count": 5,
   "metadata": {},
   "outputs": [],
   "source": [
    "studentsDict = {'A098475':'Serena G Lotreck','A123456':'Davis Mathieu','A348576':'Fabio Gomez'} # more than 3 netIDs, maybe the whole class"
   ]
  },
  {
   "cell_type": "code",
   "execution_count": 6,
   "metadata": {},
   "outputs": [
    {
     "data": {
      "text/plain": [
       "'Serena G Lotreck'"
      ]
     },
     "execution_count": 6,
     "metadata": {},
     "output_type": "execute_result"
    }
   ],
   "source": [
    "# look up students by their netIDs\n",
    "netIDs = []\n",
    "students['A098475']"
   ]
  },
  {
   "cell_type": "markdown",
   "metadata": {},
   "source": [
    "#### What's the difference between a dictionary and a list?"
   ]
  },
  {
   "cell_type": "code",
   "execution_count": null,
   "metadata": {},
   "outputs": [],
   "source": [
    "# looking up students in a list\n",
    "studentIDList = ['A098475','A123456','A348576']\n",
    "studentNameList = ['Serena G Lotreck','Davis Mathieu','Fabio Gomez']\n",
    "# if I want to know what name this netID ('A348576') is associated with:\n",
    "index = 0\n",
    "for i in studentIDList:\n",
    "    print(i)\n",
    "    if i == 'A348576':\n",
    "        index = studentIDList.index(i)\n",
    "studentFromList = studentNameList[index]"
   ]
  },
  {
   "cell_type": "code",
   "execution_count": null,
   "metadata": {},
   "outputs": [],
   "source": [
    "# where as if I want to look him up in the dictionary, I only have to do the following:\n",
    "studentFromDict = studentsDict['A348576'] \n",
    "# python can directly find this value, instead of iterating through the whole dict"
   ]
  },
  {
   "cell_type": "code",
   "execution_count": null,
   "metadata": {},
   "outputs": [],
   "source": [
    "# another toy example where they do most of the coding\n",
    "# make a dict for yourself, where they keys are categories like, 'favorite food','favorite color'"
   ]
  },
  {
   "cell_type": "markdown",
   "metadata": {},
   "source": [
    "# Introduction to Functions"
   ]
  },
  {
   "cell_type": "code",
   "execution_count": 5,
   "metadata": {},
   "outputs": [],
   "source": [
    "def circle_area(r):\n",
    "    circle_area = r**2 * math.pi\n",
    "    return circle_area\n"
   ]
  },
  {
   "cell_type": "code",
   "execution_count": 9,
   "metadata": {},
   "outputs": [
    {
     "name": "stdout",
     "output_type": "stream",
     "text": [
      "area of circle 1: 50.26548245743669\n",
      "area of circle 2: 153.93804002589985\n",
      "area of circle 3: 5541.769440932395\n"
     ]
    }
   ],
   "source": [
    "import math\n",
    "\n",
    "r = 4\n",
    "function_example = circle_area(r)\n",
    "print(\"Area of circle 1:\", function_example)\n",
    "\n",
    "function_example = circle_area(7)\n",
    "print(\"Area of circle 2:\", function_example)\n",
    "\n",
    "test_radius = 42\n",
    "function_example = circle_area(test_radius)\n",
    "print(\"Area of circle 3:\", function_example)"
   ]
  },
  {
   "cell_type": "markdown",
   "metadata": {},
   "source": [
    "Now, using the function above, circle_area, calculate the radius of a circle of your choice."
   ]
  },
  {
   "cell_type": "code",
   "execution_count": null,
   "metadata": {},
   "outputs": [],
   "source": [
    "# apply the function"
   ]
  },
  {
   "cell_type": "markdown",
   "metadata": {},
   "source": [
    "Now, write a function that performs a set of statistical operations (mean, min, max) on a list of numbers (float, int)"
   ]
  },
  {
   "cell_type": "code",
   "execution_count": 4,
   "metadata": {},
   "outputs": [
    {
     "name": "stdout",
     "output_type": "stream",
     "text": [
      "(5.888888888888889, 1, 12) 5.888888888888889 1 12\n"
     ]
    }
   ],
   "source": [
    "data = [1,2,3,5,6,7,8,9,12]\n",
    "\n",
    "# want to get the mean, min, max for this dataset\n",
    "# this way we can call this on any list of numbers to get these stats \n",
    "# also teaches them how to return multiple values from a function\n",
    "## example answer:\n",
    "def stats(data):\n",
    "    \"\"\"\n",
    "    Function that calculates mean, min and max of a list of float/int\n",
    "    \n",
    "    parameters: data, a list of float/int\n",
    "    \n",
    "    returns: a tuple of the form (mean, min, max)\n",
    "    \"\"\"\n",
    "    mean = sum(data)/len(data)\n",
    "    minimum = min(data)\n",
    "    maximum = max(data)\n",
    "    return (mean, minimum, maximum)\n",
    "\n",
    "# use this as an opportunity to talk about returning multiple values, can do this two ways\n",
    "myStats = stats(data)\n",
    "meanData,minData,maxData = stats(data)\n",
    "print(myStats,meanData,minData,maxData)"
   ]
  },
  {
   "cell_type": "code",
   "execution_count": null,
   "metadata": {},
   "outputs": [],
   "source": [
    "# now have them write a toy example (give them a task and they have to write the whole thing: the function in \n",
    "# one cell and the code that calls it in another cell)"
   ]
  },
  {
   "cell_type": "markdown",
   "metadata": {},
   "source": [
    "# Putting it into Practice: Dictionaries and Functions"
   ]
  },
  {
   "cell_type": "code",
   "execution_count": null,
   "metadata": {},
   "outputs": [],
   "source": [
    "# load in data with Davis' script\n",
    "import Davis        \n",
    "# Idea, maybe give a fasta file and have them write a function to translate from DNA to AA for all of them "
   ]
  },
  {
   "cell_type": "code",
   "execution_count": null,
   "metadata": {},
   "outputs": [],
   "source": [
    "# paper code example with more structure to introduce more complex usage\n",
    "# just make sure to clearly indicate when and why functions and dicts are used in this example\n",
    "# separate them out enough so that the student can recognize which part is the dict part and which is \n",
    "# the function part\n",
    "\n",
    "# PAPER CODE FIRST, HOW WOULD YOU SOLVE THIS PROBLEM?\n",
    "# translate this list of proteins\n",
    " # read in fasta file to make this object:\n",
    "# have there be multiple lists of different families of proteins\n",
    "kinases = ['protein name'] # extract and translate these proteins\n",
    "kinases_translated = {'protein name':'protein sequence'}\n",
    "# do this for p450's, TF's, etc           \n",
    "           \n",
    "\n",
    "def func(x,y):\n",
    "    \"\"\"\n",
    "    function to translate DNA sequences into proteins\n",
    "    \n",
    "    parameters:\n",
    "    x: \n",
    "    y:\n",
    "    \n",
    "    returns: the single letter amino acid sequence of the protein\n",
    "    \"\"\"\n",
    "    # your code here \n",
    "    return translatedProtein\n",
    "\n",
    "for i in proteins.keys():\n",
    "    translatedProtein = func()\n",
    "    \n",
    "    \n"
   ]
  },
  {
   "cell_type": "markdown",
   "metadata": {},
   "source": [
    "# Challenge Question"
   ]
  },
  {
   "cell_type": "markdown",
   "metadata": {},
   "source": [
    "Maybe Ask questions in stages? that build on one another"
   ]
  },
  {
   "cell_type": "markdown",
   "metadata": {},
   "source": [
    "Send home as hw if not finished in class, but ideally would do it in class with think-pair-share"
   ]
  },
  {
   "cell_type": "code",
   "execution_count": null,
   "metadata": {},
   "outputs": [],
   "source": [
    "# find longest ORF (finding the longest sequence before a stop)\n",
    "# in the previous example, we only give them the ORFs, here we give them the whole gene (including UTRs etc)\n",
    "# make sure that by the time they get here they have all the tools they need and have been taught all the concepts\n",
    "# Davis and fabio will draft this "
   ]
  },
  {
   "cell_type": "code",
   "execution_count": 1,
   "metadata": {},
   "outputs": [],
   "source": [
    "from IPython.display import Image"
   ]
  },
  {
   "cell_type": "markdown",
   "metadata": {},
   "source": [
    "## Given a DNA sequence find longest ORF\n",
    "### hints: This sequence doen't  have URTs!\n",
    "![Image of Example_1](https://raw.githubusercontent.com/gomezcan/forum-lesson-plan/master/Example_1.png)\n"
   ]
  },
  {
   "cell_type": "code",
   "execution_count": 47,
   "metadata": {},
   "outputs": [],
   "source": [
    "#### Input data required \n",
    "## DNA sequence\n",
    "Rubisco='ATGGCCAATTCGAAAATGGCGATAGCTTCTCTAGCAGCTCAAATCCGTCCCTTCACATGTTTGGCCGCGTCTCTGCCGTCACGGTTGGCGCCTCATCCACCAGACCTCATCCGGTGGATCAAGCGAGAAGGCGGCTTCGTTCACCACGCGGTTAAGCTCTCTCAGGAGACTCAATTTGGTATCGGACTCATTTCCACCGAGCAAATCTCTCCAGGCACCGACCTAATCTCTCTCCCTCCTCACGTTCCCTTACGCTTCGAATCAGATGATTCGTCATCTTCATCGTCCTCTCTCCTCTCCGCATTGGCCCGTCGTGTTCCTGAAGAACTGTGGGCAATGAAATTGGGATTGAGGTTGTTACAAGAAAGAGCCAATGCAGATTCTTTCTGGTGGCCATACATTAGCAATCTCCCGGAAACTTATACTGTTCCCATATTCTTTCCCGGAGAAGATATCAAAAACTTGCAATATGCTCCTCTTCTCCACCAGGTCAACAAAAGATGCCGTTTTCTTCTTGAGTTTGAGCAAGAGATTAGACGTACTCTTGAAGATGTTAAGGCTAGTGATCATCCTTTCAGTGGCCAAGATGTAAATGCATCTGCCCTAGGGTGGACTATGTCAGCTGTTTCAACTAGAGCGTTTCGTTTACATGGTAATAAAAAGCTTCAAGGTGGATCTTCTGATGATGTTCCCATGATGCTTCCTTTGATAGATATGTGCAACCACAGCTTCAAACCTAATGCTCGGATCATTCAAGAACAGAACGGAGCTGACTCTAATACTCTTGTTAAGGTTGTTGCAGAGACTGAAGTCAAAGAAAACGATCCTTTGCTACTTAACTATGGTTGCCTTAGTAATGATTTTTTCCTTTTGGACTACGGATTTGTGATCGAATCAAATCCATACGATACAATTGAGCTTAAATACGATGAACAGCTTATGGATGCGGCTAGCATGGCGGCTGGTGTTTCTTCCCCAAAATTCTCTTCACCAGCTCCATGGCAACATCAGCTGCTTTCCCAGTTAAATTTAGCCGGGGAAATGCCAAATCTGAAGGTAACCATTGGAGGCCCAGAGCCAGTAGAGGGACGACTATTGGCGGCGTTAAGGATACTGCTTTGTGGTGAACTGGTGGAAGTAGAGAAGCATGACTCAGACACGCTGAAATCTTTATCCGCCGTAGCCCCTTTTGGAATTGCAAACGAGATTGCCGTTTTCCGTACTGTAATCGCTCTGTGTGTGATTGCATTGAGCCATTTTCCGACAAAAATAATGGAAGATGAGGCTATAATCAAACAAGGTGTTTCAGCCACAGCAGAATTGAGTATCAAGTACCGAATCCAGAAGAAATCAGTGATCATAGATGTCATGAAAGACCTCACCAGAAGGGTTAAGTTGCTATCTTCTAAGGAGACACCAACTGCTGCATAA'\n",
    "## Codon disctionary \n",
    "\n",
    "DNA_2_Protein = {'GCT':'A', 'GCC':'A', 'GCA':'A', 'GCG':'A', \n",
    "                 'CGT':'R', 'CGC':'R', 'CGA':'R', 'CGG':'R', 'AGA':'R', 'AGG':'R',\n",
    "                 'AAT':'N', 'AAC':'N',\n",
    "                 'GAT':'D', 'GAC':'D', \n",
    "                 'AAT':'B', 'AAC':'B', \n",
    "                 'TGT':'C', 'TGC':'C', \n",
    "                 'CAA':'Q', 'CAG':'Q',\n",
    "                 'GAA':'E', 'GAG':'E',\n",
    "                 'CAA':'Z', 'CAG':'Z',\n",
    "                 'GGT':'G', 'GGC':'G', 'GGA':'G', 'GGG':'G',\n",
    "                 'CAT':'H', 'CAC':'H', \n",
    "                 'ATT':'I', 'ATC':'I', 'ATA':'I',\n",
    "                 'CTT':'L', 'CTC':'L', 'CTA':'L', 'CTG':'L','TTG':'L', 'TTA':'L',  \n",
    "                 'AAA':'K', 'AAG':'K',\n",
    "                 'TTT':'F', 'TTC':'F',\n",
    "                 'CCT':'P', 'CCC':'P', 'CCA':'P', 'CCG':'P',\n",
    "                 'TCT':'S', 'TCC':'S', 'TCA':'S', 'TCG':'S', 'AGT':'S', 'AGC':'S',\n",
    "                 'ACT':'T', 'ACC':'T', 'ACA':'T', 'ACG':'T',\n",
    "                 'TGG':'W', \n",
    "                 'TAT':'Y', 'TAC':'Y',\n",
    "                 'GTT':'V', 'GTC':'V', 'GTA':'V', 'GTG':'V'\n",
    "                }"
   ]
  },
  {
   "cell_type": "code",
   "execution_count": 48,
   "metadata": {},
   "outputs": [],
   "source": [
    "#Rubisco='CATGGC'"
   ]
  },
  {
   "cell_type": "code",
   "execution_count": 57,
   "metadata": {},
   "outputs": [
    {
     "name": "stdout",
     "output_type": "stream",
     "text": [
      "[464, 0, 0]\n"
     ]
    }
   ],
   "source": [
    "#### Functions \n",
    "# Example \n",
    "\n",
    "def TranslateSequene(Seq, Frame=0):\n",
    "    '''\n",
    "    # Seq: string od DNA seq\n",
    "    # Frame: int indicating frame\n",
    "    Function that translate a RNA sequence into aa\n",
    "    \n",
    "    Input: RNA sequence and ORF to test\n",
    "    '''\n",
    "    ## Set parameters\n",
    "    Start=Frame\n",
    "    # empty list to save aa sequence\n",
    "    Seq_aa = ''\n",
    "\n",
    "    ## Define stop codons\n",
    "    Stops = ['TAA','TAG','TGA'] \n",
    "    ## walk over DNA sequences reading codons\n",
    "    s_c_m = 0\n",
    "    for i in range(len(Seq)-2):\n",
    "        codon = Seq[Start:Start+3] # Condon seq\n",
    "        if (codon in Stops):\n",
    "            return(Seq_aa) \n",
    "        \n",
    "        elif (len(codon)!=3):            \n",
    "            return(Seq_aa) \n",
    "        \n",
    "        elif (codon=='ATG'):\n",
    "            s_c_m = 1\n",
    "            Start += 3            \n",
    "            #continue\n",
    "        elif (s_c_m>0):\n",
    "            aa = DNA_2_Protein[codon]            \n",
    "            Seq_aa=Seq_aa+aa\n",
    "            Start += 3                        \n",
    "        else:            \n",
    "            # Start += 3                        \n",
    "            continue\n",
    "            #print(codon)\n",
    "            #print(aa)            \n",
    "            \n",
    "    return(''.join(Seq_aa))\n",
    "\n",
    "Seq_1 = TranslateSequene(Rubisco, 0)\n",
    "Seq_2 = TranslateSequene(Rubisco, 1)\n",
    "Seq_3 = TranslateSequene(Rubisco, 2)\n",
    "Seq_1\n",
    "Lengh_seq = [len(Seq_1), len(Seq_2), len(Seq_3)]\n",
    "print(Lengh_seq)"
   ]
  },
  {
   "cell_type": "markdown",
   "metadata": {},
   "source": [
    "## Given a DNA sequence find longest ORF\n",
    "### hints: This sequence does have URTs!\n",
    "![Image of Example_2](https://raw.githubusercontent.com/gomezcan/forum-lesson-plan/master/Example_2.png)\n"
   ]
  },
  {
   "cell_type": "code",
   "execution_count": null,
   "metadata": {},
   "outputs": [],
   "source": []
  }
 ],
 "metadata": {
  "kernelspec": {
   "display_name": "Python 3",
   "language": "python",
   "name": "python3"
  },
  "language_info": {
   "codemirror_mode": {
    "name": "ipython",
    "version": 3
   },
   "file_extension": ".py",
   "mimetype": "text/x-python",
   "name": "python",
   "nbconvert_exporter": "python",
   "pygments_lexer": "ipython3",
   "version": "3.7.1"
  }
 },
 "nbformat": 4,
 "nbformat_minor": 4
}
